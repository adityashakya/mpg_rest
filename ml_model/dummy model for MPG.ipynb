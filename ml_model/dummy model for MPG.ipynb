{
 "cells": [
  {
   "cell_type": "code",
   "execution_count": 10,
   "metadata": {},
   "outputs": [],
   "source": [
    "import pandas as pd\n",
    "import numpy as np\n",
    "from sklearn import pipeline,preprocessing,metrics,model_selection,ensemble, impute\n",
    "from sklearn_pandas import DataFrameMapper"
   ]
  },
  {
   "cell_type": "code",
   "execution_count": null,
   "metadata": {},
   "outputs": [],
   "source": [
    "impute.SimpleImputer"
   ]
  },
  {
   "cell_type": "code",
   "execution_count": 6,
   "metadata": {},
   "outputs": [],
   "source": [
    "data=pd.read_csv('mpg_data_example.csv')"
   ]
  },
  {
   "cell_type": "code",
   "execution_count": 7,
   "metadata": {},
   "outputs": [
    {
     "data": {
      "text/html": [
       "<div>\n",
       "<style scoped>\n",
       "    .dataframe tbody tr th:only-of-type {\n",
       "        vertical-align: middle;\n",
       "    }\n",
       "\n",
       "    .dataframe tbody tr th {\n",
       "        vertical-align: top;\n",
       "    }\n",
       "\n",
       "    .dataframe thead th {\n",
       "        text-align: right;\n",
       "    }\n",
       "</style>\n",
       "<table border=\"1\" class=\"dataframe\">\n",
       "  <thead>\n",
       "    <tr style=\"text-align: right;\">\n",
       "      <th></th>\n",
       "      <th>mpg</th>\n",
       "      <th>cylinders</th>\n",
       "      <th>displacement</th>\n",
       "      <th>horsepower</th>\n",
       "      <th>weight</th>\n",
       "      <th>acceleration</th>\n",
       "      <th>model year</th>\n",
       "      <th>origin</th>\n",
       "      <th>car name</th>\n",
       "    </tr>\n",
       "  </thead>\n",
       "  <tbody>\n",
       "    <tr>\n",
       "      <th>0</th>\n",
       "      <td>18.0</td>\n",
       "      <td>8</td>\n",
       "      <td>307.0</td>\n",
       "      <td>130.0</td>\n",
       "      <td>3504</td>\n",
       "      <td>12.0</td>\n",
       "      <td>70</td>\n",
       "      <td>1</td>\n",
       "      <td>chevrolet chevelle malibu</td>\n",
       "    </tr>\n",
       "    <tr>\n",
       "      <th>1</th>\n",
       "      <td>15.0</td>\n",
       "      <td>8</td>\n",
       "      <td>350.0</td>\n",
       "      <td>165.0</td>\n",
       "      <td>3693</td>\n",
       "      <td>11.5</td>\n",
       "      <td>70</td>\n",
       "      <td>1</td>\n",
       "      <td>buick skylark 320</td>\n",
       "    </tr>\n",
       "    <tr>\n",
       "      <th>2</th>\n",
       "      <td>18.0</td>\n",
       "      <td>8</td>\n",
       "      <td>318.0</td>\n",
       "      <td>150.0</td>\n",
       "      <td>3436</td>\n",
       "      <td>11.0</td>\n",
       "      <td>70</td>\n",
       "      <td>1</td>\n",
       "      <td>plymouth satellite</td>\n",
       "    </tr>\n",
       "    <tr>\n",
       "      <th>3</th>\n",
       "      <td>16.0</td>\n",
       "      <td>8</td>\n",
       "      <td>304.0</td>\n",
       "      <td>150.0</td>\n",
       "      <td>3433</td>\n",
       "      <td>12.0</td>\n",
       "      <td>70</td>\n",
       "      <td>1</td>\n",
       "      <td>amc rebel sst</td>\n",
       "    </tr>\n",
       "    <tr>\n",
       "      <th>4</th>\n",
       "      <td>17.0</td>\n",
       "      <td>8</td>\n",
       "      <td>302.0</td>\n",
       "      <td>140.0</td>\n",
       "      <td>3449</td>\n",
       "      <td>10.5</td>\n",
       "      <td>70</td>\n",
       "      <td>1</td>\n",
       "      <td>ford torino</td>\n",
       "    </tr>\n",
       "  </tbody>\n",
       "</table>\n",
       "</div>"
      ],
      "text/plain": [
       "    mpg  cylinders  displacement  horsepower  weight  acceleration  \\\n",
       "0  18.0          8         307.0       130.0    3504          12.0   \n",
       "1  15.0          8         350.0       165.0    3693          11.5   \n",
       "2  18.0          8         318.0       150.0    3436          11.0   \n",
       "3  16.0          8         304.0       150.0    3433          12.0   \n",
       "4  17.0          8         302.0       140.0    3449          10.5   \n",
       "\n",
       "   model year  origin                   car name  \n",
       "0          70       1  chevrolet chevelle malibu  \n",
       "1          70       1          buick skylark 320  \n",
       "2          70       1         plymouth satellite  \n",
       "3          70       1              amc rebel sst  \n",
       "4          70       1                ford torino  "
      ]
     },
     "execution_count": 7,
     "metadata": {},
     "output_type": "execute_result"
    }
   ],
   "source": [
    "data.head()"
   ]
  },
  {
   "cell_type": "code",
   "execution_count": 8,
   "metadata": {},
   "outputs": [
    {
     "data": {
      "text/plain": [
       "mpg             0\n",
       "cylinders       0\n",
       "displacement    0\n",
       "horsepower      6\n",
       "weight          0\n",
       "acceleration    0\n",
       "model year      0\n",
       "origin          0\n",
       "car name        0\n",
       "dtype: int64"
      ]
     },
     "execution_count": 8,
     "metadata": {},
     "output_type": "execute_result"
    }
   ],
   "source": [
    "data.isnull().sum()"
   ]
  },
  {
   "cell_type": "code",
   "execution_count": 11,
   "metadata": {},
   "outputs": [],
   "source": [
    "mapper = DataFrameMapper([\n",
    "                        (['cylinders','displacement','weight','acceleration','model year'], preprocessing.StandardScaler()),\n",
    "                        (['horsepower'],impute.SimpleImputer()),\n",
    "                        (['origin'], preprocessing.OneHotEncoder())\n",
    "                        ])"
   ]
  },
  {
   "cell_type": "code",
   "execution_count": 12,
   "metadata": {},
   "outputs": [],
   "source": [
    "pipeline_obj = pipeline.Pipeline([\n",
    "    ('mapper',mapper),\n",
    "    (\"model\", ensemble.RandomForestRegressor())\n",
    "])"
   ]
  },
  {
   "cell_type": "code",
   "execution_count": 13,
   "metadata": {},
   "outputs": [
    {
     "data": {
      "text/plain": [
       "Index(['mpg', 'cylinders', 'displacement', 'horsepower', 'weight',\n",
       "       'acceleration', 'model year', 'origin', 'car name'],\n",
       "      dtype='object')"
      ]
     },
     "execution_count": 13,
     "metadata": {},
     "output_type": "execute_result"
    }
   ],
   "source": [
    "data.columns"
   ]
  },
  {
   "cell_type": "code",
   "execution_count": 14,
   "metadata": {},
   "outputs": [],
   "source": [
    "X=['cylinders', 'displacement', 'horsepower', 'weight',\n",
    "       'acceleration', 'model year', 'origin']\n",
    "Y=['mpg']"
   ]
  },
  {
   "cell_type": "code",
   "execution_count": 43,
   "metadata": {},
   "outputs": [
    {
     "name": "stderr",
     "output_type": "stream",
     "text": [
      "/home/aditya/.local/lib/python3.8/site-packages/sklearn/pipeline.py:335: DataConversionWarning: A column-vector y was passed when a 1d array was expected. Please change the shape of y to (n_samples,), for example using ravel().\n",
      "  self._final_estimator.fit(Xt, y, **fit_params_last_step)\n"
     ]
    },
    {
     "data": {
      "text/plain": [
       "Pipeline(steps=[('mapper',\n",
       "                 DataFrameMapper(features=[(['cylinders', 'displacement',\n",
       "                                             'weight', 'acceleration',\n",
       "                                             'model year'],\n",
       "                                            StandardScaler()),\n",
       "                                           (['horsepower'], SimpleImputer()),\n",
       "                                           (['origin'], OneHotEncoder())])),\n",
       "                ('model', RandomForestRegressor())])"
      ]
     },
     "execution_count": 43,
     "metadata": {},
     "output_type": "execute_result"
    }
   ],
   "source": [
    "pipeline_obj.fit(data[X],data[Y])"
   ]
  },
  {
   "cell_type": "code",
   "execution_count": 28,
   "metadata": {
    "collapsed": true,
    "jupyter": {
     "outputs_hidden": true
    }
   },
   "outputs": [
    {
     "data": {
      "text/plain": [
       "array([17.387, 14.71 , 17.17 , 16.29 , 16.904, 14.709, 14.069, 14.16 ,\n",
       "       13.66 , 14.67 , 14.92 , 14.46 , 15.11 , 14.48 , 23.993, 21.44 ,\n",
       "       19.21 , 20.876, 26.96 , 26.485, 24.28 , 24.38 , 24.515, 24.58 ,\n",
       "       20.9  , 10.5  , 11.   , 11.795,  9.81 , 26.98 , 26.125, 24.762,\n",
       "       25.355, 19.323, 16.929, 17.431, 18.562, 18.26 , 13.9  , 13.59 ,\n",
       "       14.005, 14.32 , 12.1  , 12.92 , 12.7  , 18.36 , 22.375, 18.66 ,\n",
       "       18.19 , 23.434, 26.89 , 29.685, 29.145, 31.47 , 33.35 , 27.23 ,\n",
       "       26.99 , 24.169, 25.82 , 23.58 , 20.691, 22.53 , 13.22 , 13.615,\n",
       "       14.57 , 13.96 , 16.04 , 11.74 , 12.87 , 12.42 , 13.06 , 20.606,\n",
       "       14.815, 13.825, 13.525, 14.09 , 19.141, 22.55 , 20.593, 26.18 ,\n",
       "       22.404, 26.085, 22.877, 27.39 , 26.685, 13.24 , 14.68 , 13.38 ,\n",
       "       14.   , 14.64 , 12.1  , 13.035, 13.359, 14.165, 12.61 , 12.15 ,\n",
       "       13.315, 18.281, 16.405, 18.322, 18.335, 22.06 , 26.355, 11.42 ,\n",
       "       12.19 , 12.74 , 12.52 , 18.39 , 21.39 , 21.69 , 22.93 , 21.89 ,\n",
       "       20.27 , 21.475, 25.74 , 14.5  , 14.805, 29.31 , 25.07 , 21.24 ,\n",
       "       20.014, 15.312, 22.925, 20.137, 12.12 , 20.261, 20.406, 19.17 ,\n",
       "       15.988, 31.24 , 25.574, 31.5  , 24.84 , 16.27 , 16.017, 17.799,\n",
       "       15.405, 13.21 , 14.09 , 13.89 , 14.075, 27.76 , 27.605, 26.287,\n",
       "       31.511, 31.625, 27.61 , 25.925, 26.019, 24.174, 25.554, 30.09 ,\n",
       "       19.274, 17.832, 16.232, 16.53 , 15.135, 15.03 , 15.22 , 14.3  ,\n",
       "       17.317, 16.092, 15.547, 17.61 , 20.565, 19.734, 14.98 , 28.605,\n",
       "       23.49 , 19.634, 22.901, 24.057, 26.208, 23.889, 19.006, 28.77 ,\n",
       "       18.94 , 23.238, 22.253, 21.317, 24.107, 32.486, 26.83 , 25.424,\n",
       "       24.843, 26.015, 27.28 , 16.885, 15.66 , 16.208, 14.95 , 21.353,\n",
       "       20.857, 23.108, 21.304, 29.31 , 25.87 , 28.943, 32.526, 19.421,\n",
       "       18.755, 18.32 , 18.202, 29.342, 32.006, 28.335, 25.833, 20.157,\n",
       "       13.565, 19.872, 19.267, 17.012, 15.665, 13.875, 13.99 , 13.541,\n",
       "       31.395, 29.916, 34.287, 25.451, 33.122, 16.714, 16.888, 15.711,\n",
       "       15.303, 17.993, 20.151, 18.989, 18.084, 15.77 , 15.601, 15.559,\n",
       "       15.705, 29.832, 24.688, 26.226, 25.178, 30.825, 31.994, 30.373,\n",
       "       29.665, 21.597, 22.42 , 21.983, 40.789, 35.165, 34.397, 37.96 ,\n",
       "       35.725, 19.889, 18.932, 19.617, 19.042, 20.234, 20.616, 24.808,\n",
       "       20.152, 19.739, 20.459, 20.722, 18.753, 18.542, 18.974, 18.027,\n",
       "       18.705, 17.165, 30.635, 25.806, 26.559, 29.873, 23.468, 23.277,\n",
       "       23.006, 24.466, 21.255, 17.687, 22.017, 16.962, 31.987, 30.786,\n",
       "       21.318, 21.786, 23.829, 20.245, 20.591, 17.186, 17.865, 17.285,\n",
       "       17.776, 16.453, 16.186, 19.933, 17.804, 33.587, 34.225, 35.745,\n",
       "       28.282, 25.112, 21.16 , 27.424, 21.99 , 34.634, 34.2  , 33.42 ,\n",
       "       36.657, 27.786, 27.588, 26.214, 31.146, 39.56 , 37.454, 33.336,\n",
       "       37.002, 27.781, 25.967, 25.012, 20.054, 34.902, 30.267, 31.591,\n",
       "       35.449, 32.663, 43.775, 26.783, 41.192, 43.466, 40.377, 34.177,\n",
       "       29.973, 40.932, 38.745, 34.022, 33.074, 28.91 , 28.482, 34.112,\n",
       "       24.362, 32.492, 28.894, 26.885, 26.206, 24.445, 31.362, 37.954,\n",
       "       38.451, 36.061, 33.727, 36.565, 36.708, 34.09 , 34.683, 34.775,\n",
       "       31.519, 33.768, 33.982, 33.924, 32.693, 31.421, 31.254, 27.915,\n",
       "       28.79 , 26.108, 25.418, 21.395, 24.53 , 21.419, 19.425, 28.437,\n",
       "       27.943, 32.843, 29.995, 28.93 , 27.098, 24.672, 23.837, 35.595,\n",
       "       36.027, 32.762, 37.401, 35.278, 35.952, 35.439, 33.524, 36.099,\n",
       "       33.296, 36.043, 25.247, 32.942, 27.137, 24.382, 30.333, 33.756,\n",
       "       26.177, 27.173, 42.123, 32.479, 28.317, 29.71 ])"
      ]
     },
     "execution_count": 28,
     "metadata": {},
     "output_type": "execute_result"
    }
   ],
   "source": [
    "pipeline_obj.predict(data[X])"
   ]
  },
  {
   "cell_type": "code",
   "execution_count": 29,
   "metadata": {},
   "outputs": [],
   "source": [
    "import joblib"
   ]
  },
  {
   "cell_type": "code",
   "execution_count": 30,
   "metadata": {},
   "outputs": [
    {
     "data": {
      "text/plain": [
       "['RF_ModelforMPG.pkl']"
      ]
     },
     "execution_count": 30,
     "metadata": {},
     "output_type": "execute_result"
    }
   ],
   "source": [
    "joblib.dump(pipeline_obj,'RF_ModelforMPG.pkl')"
   ]
  },
  {
   "cell_type": "code",
   "execution_count": 31,
   "metadata": {},
   "outputs": [],
   "source": [
    "modelReload=joblib.load('RF_ModelforMPG.pkl')"
   ]
  },
  {
   "cell_type": "code",
   "execution_count": 32,
   "metadata": {
    "collapsed": true,
    "jupyter": {
     "outputs_hidden": true
    }
   },
   "outputs": [
    {
     "data": {
      "text/plain": [
       "array([17.387, 14.71 , 17.17 , 16.29 , 16.904, 14.709, 14.069, 14.16 ,\n",
       "       13.66 , 14.67 , 14.92 , 14.46 , 15.11 , 14.48 , 23.993, 21.44 ,\n",
       "       19.21 , 20.876, 26.96 , 26.485, 24.28 , 24.38 , 24.515, 24.58 ,\n",
       "       20.9  , 10.5  , 11.   , 11.795,  9.81 , 26.98 , 26.125, 24.762,\n",
       "       25.355, 19.323, 16.929, 17.431, 18.562, 18.26 , 13.9  , 13.59 ,\n",
       "       14.005, 14.32 , 12.1  , 12.92 , 12.7  , 18.36 , 22.375, 18.66 ,\n",
       "       18.19 , 23.434, 26.89 , 29.685, 29.145, 31.47 , 33.35 , 27.23 ,\n",
       "       26.99 , 24.169, 25.82 , 23.58 , 20.691, 22.53 , 13.22 , 13.615,\n",
       "       14.57 , 13.96 , 16.04 , 11.74 , 12.87 , 12.42 , 13.06 , 20.606,\n",
       "       14.815, 13.825, 13.525, 14.09 , 19.141, 22.55 , 20.593, 26.18 ,\n",
       "       22.404, 26.085, 22.877, 27.39 , 26.685, 13.24 , 14.68 , 13.38 ,\n",
       "       14.   , 14.64 , 12.1  , 13.035, 13.359, 14.165, 12.61 , 12.15 ,\n",
       "       13.315, 18.281, 16.405, 18.322, 18.335, 22.06 , 26.355, 11.42 ,\n",
       "       12.19 , 12.74 , 12.52 , 18.39 , 21.39 , 21.69 , 22.93 , 21.89 ,\n",
       "       20.27 , 21.475, 25.74 , 14.5  , 14.805, 29.31 , 25.07 , 21.24 ,\n",
       "       20.014, 15.312, 22.925, 20.137, 12.12 , 20.261, 20.406, 19.17 ,\n",
       "       15.988, 31.24 , 25.574, 31.5  , 24.84 , 16.27 , 16.017, 17.799,\n",
       "       15.405, 13.21 , 14.09 , 13.89 , 14.075, 27.76 , 27.605, 26.287,\n",
       "       31.511, 31.625, 27.61 , 25.925, 26.019, 24.174, 25.554, 30.09 ,\n",
       "       19.274, 17.832, 16.232, 16.53 , 15.135, 15.03 , 15.22 , 14.3  ,\n",
       "       17.317, 16.092, 15.547, 17.61 , 20.565, 19.734, 14.98 , 28.605,\n",
       "       23.49 , 19.634, 22.901, 24.057, 26.208, 23.889, 19.006, 28.77 ,\n",
       "       18.94 , 23.238, 22.253, 21.317, 24.107, 32.486, 26.83 , 25.424,\n",
       "       24.843, 26.015, 27.28 , 16.885, 15.66 , 16.208, 14.95 , 21.353,\n",
       "       20.857, 23.108, 21.304, 29.31 , 25.87 , 28.943, 32.526, 19.421,\n",
       "       18.755, 18.32 , 18.202, 29.342, 32.006, 28.335, 25.833, 20.157,\n",
       "       13.565, 19.872, 19.267, 17.012, 15.665, 13.875, 13.99 , 13.541,\n",
       "       31.395, 29.916, 34.287, 25.451, 33.122, 16.714, 16.888, 15.711,\n",
       "       15.303, 17.993, 20.151, 18.989, 18.084, 15.77 , 15.601, 15.559,\n",
       "       15.705, 29.832, 24.688, 26.226, 25.178, 30.825, 31.994, 30.373,\n",
       "       29.665, 21.597, 22.42 , 21.983, 40.789, 35.165, 34.397, 37.96 ,\n",
       "       35.725, 19.889, 18.932, 19.617, 19.042, 20.234, 20.616, 24.808,\n",
       "       20.152, 19.739, 20.459, 20.722, 18.753, 18.542, 18.974, 18.027,\n",
       "       18.705, 17.165, 30.635, 25.806, 26.559, 29.873, 23.468, 23.277,\n",
       "       23.006, 24.466, 21.255, 17.687, 22.017, 16.962, 31.987, 30.786,\n",
       "       21.318, 21.786, 23.829, 20.245, 20.591, 17.186, 17.865, 17.285,\n",
       "       17.776, 16.453, 16.186, 19.933, 17.804, 33.587, 34.225, 35.745,\n",
       "       28.282, 25.112, 21.16 , 27.424, 21.99 , 34.634, 34.2  , 33.42 ,\n",
       "       36.657, 27.786, 27.588, 26.214, 31.146, 39.56 , 37.454, 33.336,\n",
       "       37.002, 27.781, 25.967, 25.012, 20.054, 34.902, 30.267, 31.591,\n",
       "       35.449, 32.663, 43.775, 26.783, 41.192, 43.466, 40.377, 34.177,\n",
       "       29.973, 40.932, 38.745, 34.022, 33.074, 28.91 , 28.482, 34.112,\n",
       "       24.362, 32.492, 28.894, 26.885, 26.206, 24.445, 31.362, 37.954,\n",
       "       38.451, 36.061, 33.727, 36.565, 36.708, 34.09 , 34.683, 34.775,\n",
       "       31.519, 33.768, 33.982, 33.924, 32.693, 31.421, 31.254, 27.915,\n",
       "       28.79 , 26.108, 25.418, 21.395, 24.53 , 21.419, 19.425, 28.437,\n",
       "       27.943, 32.843, 29.995, 28.93 , 27.098, 24.672, 23.837, 35.595,\n",
       "       36.027, 32.762, 37.401, 35.278, 35.952, 35.439, 33.524, 36.099,\n",
       "       33.296, 36.043, 25.247, 32.942, 27.137, 24.382, 30.333, 33.756,\n",
       "       26.177, 27.173, 42.123, 32.479, 28.317, 29.71 ])"
      ]
     },
     "execution_count": 32,
     "metadata": {},
     "output_type": "execute_result"
    }
   ],
   "source": [
    "modelReload.predict(data[X])"
   ]
  },
  {
   "cell_type": "code",
   "execution_count": 45,
   "metadata": {},
   "outputs": [],
   "source": [
    "temp={}\n",
    "temp['cylinders']=8\n",
    "temp['displacement']=307\n",
    "temp['horsepower']=130\n",
    "temp['weight']=4504\n",
    "temp['acceleration']=112\n",
    "temp['model year']=70\n",
    "temp['origin']=1"
   ]
  },
  {
   "cell_type": "code",
   "execution_count": 46,
   "metadata": {},
   "outputs": [
    {
     "data": {
      "text/plain": [
       "{'cylinders': 8,\n",
       " 'displacement': 307,\n",
       " 'horsepower': 130,\n",
       " 'weight': 4504,\n",
       " 'acceleration': 112,\n",
       " 'model year': 70,\n",
       " 'origin': 1}"
      ]
     },
     "execution_count": 46,
     "metadata": {},
     "output_type": "execute_result"
    }
   ],
   "source": [
    "temp"
   ]
  },
  {
   "cell_type": "code",
   "execution_count": 34,
   "metadata": {},
   "outputs": [],
   "source": [
    "testDtaa=pd.DataFrame({'x':temp}).transpose()"
   ]
  },
  {
   "cell_type": "code",
   "execution_count": 35,
   "metadata": {},
   "outputs": [
    {
     "data": {
      "text/html": [
       "<div>\n",
       "<style scoped>\n",
       "    .dataframe tbody tr th:only-of-type {\n",
       "        vertical-align: middle;\n",
       "    }\n",
       "\n",
       "    .dataframe tbody tr th {\n",
       "        vertical-align: top;\n",
       "    }\n",
       "\n",
       "    .dataframe thead th {\n",
       "        text-align: right;\n",
       "    }\n",
       "</style>\n",
       "<table border=\"1\" class=\"dataframe\">\n",
       "  <thead>\n",
       "    <tr style=\"text-align: right;\">\n",
       "      <th></th>\n",
       "      <th>acceleration</th>\n",
       "      <th>cylinders</th>\n",
       "      <th>displacement</th>\n",
       "      <th>horsepower</th>\n",
       "      <th>model year</th>\n",
       "      <th>origin</th>\n",
       "      <th>weight</th>\n",
       "    </tr>\n",
       "  </thead>\n",
       "  <tbody>\n",
       "    <tr>\n",
       "      <th>x</th>\n",
       "      <td>112</td>\n",
       "      <td>8</td>\n",
       "      <td>307</td>\n",
       "      <td>130</td>\n",
       "      <td>70</td>\n",
       "      <td>1</td>\n",
       "      <td>4504</td>\n",
       "    </tr>\n",
       "  </tbody>\n",
       "</table>\n",
       "</div>"
      ],
      "text/plain": [
       "   acceleration  cylinders  displacement  horsepower  model year  origin  \\\n",
       "x           112          8           307         130          70       1   \n",
       "\n",
       "   weight  \n",
       "x    4504  "
      ]
     },
     "execution_count": 35,
     "metadata": {},
     "output_type": "execute_result"
    }
   ],
   "source": [
    "testDtaa"
   ]
  },
  {
   "cell_type": "code",
   "execution_count": 36,
   "metadata": {},
   "outputs": [
    {
     "data": {
      "text/plain": [
       "12.744000000000002"
      ]
     },
     "execution_count": 36,
     "metadata": {},
     "output_type": "execute_result"
    }
   ],
   "source": [
    "modelReload.predict(testDtaa)[0]"
   ]
  },
  {
   "cell_type": "code",
   "execution_count": 37,
   "metadata": {},
   "outputs": [
    {
     "data": {
      "text/plain": [
       "acceleration    int64\n",
       "cylinders       int64\n",
       "displacement    int64\n",
       "horsepower      int64\n",
       "model year      int64\n",
       "origin          int64\n",
       "weight          int64\n",
       "dtype: object"
      ]
     },
     "execution_count": 37,
     "metadata": {},
     "output_type": "execute_result"
    }
   ],
   "source": [
    "testDtaa.dtypes"
   ]
  },
  {
   "cell_type": "code",
   "execution_count": 27,
   "metadata": {},
   "outputs": [
    {
     "data": {
      "text/plain": [
       "Index(['acceleration', 'cylinders', 'displacement', 'horsepower', 'model year',\n",
       "       'origin', 'weight'],\n",
       "      dtype='object')"
      ]
     },
     "execution_count": 27,
     "metadata": {},
     "output_type": "execute_result"
    }
   ],
   "source": [
    "testDtaa.columns"
   ]
  },
  {
   "cell_type": "code",
   "execution_count": 38,
   "metadata": {},
   "outputs": [
    {
     "name": "stdout",
     "output_type": "stream",
     "text": [
      "   acceleration  cylinders  displacement  horsepower  model year  origin  \\\n",
      "x           112          8           307         130          70       1   \n",
      "\n",
      "   weight  \n",
      "x    4504  \n"
     ]
    }
   ],
   "source": [
    "print(testDtaa)"
   ]
  },
  {
   "cell_type": "code",
   "execution_count": null,
   "metadata": {},
   "outputs": [],
   "source": [
    "{'csrfmiddlewaretoken': 'YzXMSk3Xwf1jTsIGFYxEDRXSbP1Dt0R68sDbgcYpJu0nw2tJwT3ntNZMiGiGsGB7', \n",
    "'cylinderVal': '3', \n",
    "'dispVal': '6',\n",
    "'hrsPwrVal': '66', \n",
    "'weightVal': '445', \n",
    "'accVal': '9', \n",
    "'modelVal': 'ad4', \n",
    "'originVal': '2003'}\n",
    "\n",
    "\n",
    "['acceleration', 'cylinders', 'displacement', 'horsepower', 'model year',\n",
    "       'origin', 'weight'],\n",
    " \n",
    "model_input_values = {}\n",
    "model_input_values['acceleration'] = request.POST.get('accVal')\n",
    "model_input_values['cylinders'] = request.POST.get('cylinderVal')\n",
    "model_input_values['displacement'] = request.POST.get('dispVal')\n",
    "model_input_values['horsepower'] = request.POST.get('hrsPwrVal')\n",
    "model_input_values['model year'] = request.POST.get('modelVal')\n",
    "model_input_values['origin'] = request.POST.get('originVal')\n",
    "model_input_values['weight'] = request.POST.get('weightVal')\n",
    "\n"
   ]
  },
  {
   "cell_type": "code",
   "execution_count": 39,
   "metadata": {},
   "outputs": [
    {
     "data": {
      "text/plain": [
       "[('mapper',\n",
       "  DataFrameMapper(features=[(['cylinders', 'displacement', 'weight',\n",
       "                              'acceleration', 'model year'],\n",
       "                             StandardScaler(), {}),\n",
       "                            (['horsepower'], SimpleImputer(), {}),\n",
       "                            (['origin'], OneHotEncoder(), {})])),\n",
       " ('model', RandomForestRegressor())]"
      ]
     },
     "execution_count": 39,
     "metadata": {},
     "output_type": "execute_result"
    }
   ],
   "source": [
    "modelReload.steps"
   ]
  },
  {
   "cell_type": "code",
   "execution_count": 41,
   "metadata": {},
   "outputs": [
    {
     "data": {
      "text/plain": [
       "['cylinders_displacement_weight_acceleration_model year_0',\n",
       " 'cylinders_displacement_weight_acceleration_model year_1',\n",
       " 'cylinders_displacement_weight_acceleration_model year_2',\n",
       " 'cylinders_displacement_weight_acceleration_model year_3',\n",
       " 'cylinders_displacement_weight_acceleration_model year_4',\n",
       " 'horsepower',\n",
       " 'origin_x0_1',\n",
       " 'origin_x0_2',\n",
       " 'origin_x0_3']"
      ]
     },
     "execution_count": 41,
     "metadata": {},
     "output_type": "execute_result"
    }
   ],
   "source": [
    "modelReload.named_steps.mapper.transformed_names_"
   ]
  },
  {
   "cell_type": "code",
   "execution_count": null,
   "metadata": {},
   "outputs": [],
   "source": []
  }
 ],
 "metadata": {
  "kernelspec": {
   "display_name": "Python 3",
   "language": "python",
   "name": "python3"
  },
  "language_info": {
   "codemirror_mode": {
    "name": "ipython",
    "version": 3
   },
   "file_extension": ".py",
   "mimetype": "text/x-python",
   "name": "python",
   "nbconvert_exporter": "python",
   "pygments_lexer": "ipython3",
   "version": "3.8.2"
  }
 },
 "nbformat": 4,
 "nbformat_minor": 4
}
