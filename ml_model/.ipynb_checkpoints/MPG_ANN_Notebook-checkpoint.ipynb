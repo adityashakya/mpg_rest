{
 "cells": [
  {
   "cell_type": "markdown",
   "metadata": {},
   "source": [
    "# Car Milage Prediction on MPG dataset using Keras"
   ]
  },
  {
   "cell_type": "code",
   "execution_count": 3,
   "metadata": {},
   "outputs": [],
   "source": [
    "import pandas as pd\n",
    "import numpy as np\n",
    "import keras\n",
    "\n",
    "from sklearn import pipeline,preprocessing,metrics,model_selection,ensemble, impute\n",
    "from sklearn_pandas import DataFrameMapper"
   ]
  },
  {
   "cell_type": "code",
   "execution_count": 2,
   "metadata": {},
   "outputs": [],
   "source": [
    "data=pd.read_csv('mpg_data_example.csv')"
   ]
  },
  {
   "cell_type": "markdown",
   "metadata": {},
   "source": [
    "## Prepare data\n",
    "\n",
    "We will use sklearn for processing preprocessing out data"
   ]
  },
  {
   "cell_type": "code",
   "execution_count": 46,
   "metadata": {},
   "outputs": [
    {
     "data": {
      "text/html": [
       "<div>\n",
       "<style scoped>\n",
       "    .dataframe tbody tr th:only-of-type {\n",
       "        vertical-align: middle;\n",
       "    }\n",
       "\n",
       "    .dataframe tbody tr th {\n",
       "        vertical-align: top;\n",
       "    }\n",
       "\n",
       "    .dataframe thead th {\n",
       "        text-align: right;\n",
       "    }\n",
       "</style>\n",
       "<table border=\"1\" class=\"dataframe\">\n",
       "  <thead>\n",
       "    <tr style=\"text-align: right;\">\n",
       "      <th></th>\n",
       "      <th>mpg</th>\n",
       "      <th>cylinders</th>\n",
       "      <th>displacement</th>\n",
       "      <th>horsepower</th>\n",
       "      <th>weight</th>\n",
       "      <th>acceleration</th>\n",
       "      <th>model year</th>\n",
       "      <th>origin</th>\n",
       "      <th>car name</th>\n",
       "    </tr>\n",
       "  </thead>\n",
       "  <tbody>\n",
       "    <tr>\n",
       "      <th>0</th>\n",
       "      <td>18.0</td>\n",
       "      <td>8</td>\n",
       "      <td>307.0</td>\n",
       "      <td>130.0</td>\n",
       "      <td>3504</td>\n",
       "      <td>12.0</td>\n",
       "      <td>70</td>\n",
       "      <td>1</td>\n",
       "      <td>chevrolet chevelle malibu</td>\n",
       "    </tr>\n",
       "    <tr>\n",
       "      <th>1</th>\n",
       "      <td>15.0</td>\n",
       "      <td>8</td>\n",
       "      <td>350.0</td>\n",
       "      <td>165.0</td>\n",
       "      <td>3693</td>\n",
       "      <td>11.5</td>\n",
       "      <td>70</td>\n",
       "      <td>1</td>\n",
       "      <td>buick skylark 320</td>\n",
       "    </tr>\n",
       "    <tr>\n",
       "      <th>2</th>\n",
       "      <td>18.0</td>\n",
       "      <td>8</td>\n",
       "      <td>318.0</td>\n",
       "      <td>150.0</td>\n",
       "      <td>3436</td>\n",
       "      <td>11.0</td>\n",
       "      <td>70</td>\n",
       "      <td>1</td>\n",
       "      <td>plymouth satellite</td>\n",
       "    </tr>\n",
       "    <tr>\n",
       "      <th>3</th>\n",
       "      <td>16.0</td>\n",
       "      <td>8</td>\n",
       "      <td>304.0</td>\n",
       "      <td>150.0</td>\n",
       "      <td>3433</td>\n",
       "      <td>12.0</td>\n",
       "      <td>70</td>\n",
       "      <td>1</td>\n",
       "      <td>amc rebel sst</td>\n",
       "    </tr>\n",
       "    <tr>\n",
       "      <th>4</th>\n",
       "      <td>17.0</td>\n",
       "      <td>8</td>\n",
       "      <td>302.0</td>\n",
       "      <td>140.0</td>\n",
       "      <td>3449</td>\n",
       "      <td>10.5</td>\n",
       "      <td>70</td>\n",
       "      <td>1</td>\n",
       "      <td>ford torino</td>\n",
       "    </tr>\n",
       "  </tbody>\n",
       "</table>\n",
       "</div>"
      ],
      "text/plain": [
       "    mpg  cylinders  displacement  horsepower  weight  acceleration  \\\n",
       "0  18.0          8         307.0       130.0    3504          12.0   \n",
       "1  15.0          8         350.0       165.0    3693          11.5   \n",
       "2  18.0          8         318.0       150.0    3436          11.0   \n",
       "3  16.0          8         304.0       150.0    3433          12.0   \n",
       "4  17.0          8         302.0       140.0    3449          10.5   \n",
       "\n",
       "   model year  origin                   car name  \n",
       "0          70       1  chevrolet chevelle malibu  \n",
       "1          70       1          buick skylark 320  \n",
       "2          70       1         plymouth satellite  \n",
       "3          70       1              amc rebel sst  \n",
       "4          70       1                ford torino  "
      ]
     },
     "execution_count": 46,
     "metadata": {},
     "output_type": "execute_result"
    }
   ],
   "source": [
    "data.head()"
   ]
  },
  {
   "cell_type": "code",
   "execution_count": 154,
   "metadata": {},
   "outputs": [
    {
     "data": {
      "text/plain": [
       "Index(['mpg', 'cylinders', 'displacement', 'horsepower', 'weight',\n",
       "       'acceleration', 'model year', 'origin', 'car name'],\n",
       "      dtype='object')"
      ]
     },
     "execution_count": 154,
     "metadata": {},
     "output_type": "execute_result"
    }
   ],
   "source": [
    "data.columns"
   ]
  },
  {
   "cell_type": "code",
   "execution_count": 5,
   "metadata": {},
   "outputs": [
    {
     "data": {
      "text/plain": [
       "mpg             0\n",
       "cylinders       0\n",
       "displacement    0\n",
       "horsepower      6\n",
       "weight          0\n",
       "acceleration    0\n",
       "model year      0\n",
       "origin          0\n",
       "car name        0\n",
       "dtype: int64"
      ]
     },
     "execution_count": 5,
     "metadata": {},
     "output_type": "execute_result"
    }
   ],
   "source": [
    "data.isnull().sum()"
   ]
  },
  {
   "cell_type": "code",
   "execution_count": 20,
   "metadata": {},
   "outputs": [
    {
     "data": {
      "text/plain": [
       "3"
      ]
     },
     "execution_count": 20,
     "metadata": {},
     "output_type": "execute_result"
    }
   ],
   "source": [
    "data['origin'].nunique()"
   ]
  },
  {
   "cell_type": "code",
   "execution_count": 131,
   "metadata": {},
   "outputs": [],
   "source": [
    "mapper = DataFrameMapper([\n",
    "                        (['horsepower'],impute.SimpleImputer()),\n",
    "        (['cylinders','displacement','weight','acceleration','model year'], preprocessing.MinMaxScaler(feature_range=(0, 1))),\n",
    "                        (['origin'], preprocessing.OneHotEncoder()),\n",
    "                        \n",
    "                        ])"
   ]
  },
  {
   "cell_type": "code",
   "execution_count": 132,
   "metadata": {},
   "outputs": [],
   "source": [
    "pipeline_obj = pipeline.Pipeline([\n",
    "    ('mapper',mapper),\n",
    "    \n",
    "])"
   ]
  },
  {
   "cell_type": "code",
   "execution_count": 133,
   "metadata": {},
   "outputs": [],
   "source": [
    "transformed_data = pipeline_obj.fit_transform(data)"
   ]
  },
  {
   "cell_type": "code",
   "execution_count": 134,
   "metadata": {},
   "outputs": [
    {
     "data": {
      "text/html": [
       "<div>\n",
       "<style scoped>\n",
       "    .dataframe tbody tr th:only-of-type {\n",
       "        vertical-align: middle;\n",
       "    }\n",
       "\n",
       "    .dataframe tbody tr th {\n",
       "        vertical-align: top;\n",
       "    }\n",
       "\n",
       "    .dataframe thead th {\n",
       "        text-align: right;\n",
       "    }\n",
       "</style>\n",
       "<table border=\"1\" class=\"dataframe\">\n",
       "  <thead>\n",
       "    <tr style=\"text-align: right;\">\n",
       "      <th></th>\n",
       "      <th>0</th>\n",
       "      <th>1</th>\n",
       "      <th>2</th>\n",
       "      <th>3</th>\n",
       "      <th>4</th>\n",
       "      <th>5</th>\n",
       "      <th>6</th>\n",
       "      <th>7</th>\n",
       "      <th>8</th>\n",
       "    </tr>\n",
       "  </thead>\n",
       "  <tbody>\n",
       "    <tr>\n",
       "      <th>0</th>\n",
       "      <td>130.0</td>\n",
       "      <td>1.0</td>\n",
       "      <td>0.617571</td>\n",
       "      <td>0.536150</td>\n",
       "      <td>0.238095</td>\n",
       "      <td>0.0</td>\n",
       "      <td>1.0</td>\n",
       "      <td>0.0</td>\n",
       "      <td>0.0</td>\n",
       "    </tr>\n",
       "    <tr>\n",
       "      <th>1</th>\n",
       "      <td>165.0</td>\n",
       "      <td>1.0</td>\n",
       "      <td>0.728682</td>\n",
       "      <td>0.589736</td>\n",
       "      <td>0.208333</td>\n",
       "      <td>0.0</td>\n",
       "      <td>1.0</td>\n",
       "      <td>0.0</td>\n",
       "      <td>0.0</td>\n",
       "    </tr>\n",
       "    <tr>\n",
       "      <th>2</th>\n",
       "      <td>150.0</td>\n",
       "      <td>1.0</td>\n",
       "      <td>0.645995</td>\n",
       "      <td>0.516870</td>\n",
       "      <td>0.178571</td>\n",
       "      <td>0.0</td>\n",
       "      <td>1.0</td>\n",
       "      <td>0.0</td>\n",
       "      <td>0.0</td>\n",
       "    </tr>\n",
       "    <tr>\n",
       "      <th>3</th>\n",
       "      <td>150.0</td>\n",
       "      <td>1.0</td>\n",
       "      <td>0.609819</td>\n",
       "      <td>0.516019</td>\n",
       "      <td>0.238095</td>\n",
       "      <td>0.0</td>\n",
       "      <td>1.0</td>\n",
       "      <td>0.0</td>\n",
       "      <td>0.0</td>\n",
       "    </tr>\n",
       "    <tr>\n",
       "      <th>4</th>\n",
       "      <td>140.0</td>\n",
       "      <td>1.0</td>\n",
       "      <td>0.604651</td>\n",
       "      <td>0.520556</td>\n",
       "      <td>0.148810</td>\n",
       "      <td>0.0</td>\n",
       "      <td>1.0</td>\n",
       "      <td>0.0</td>\n",
       "      <td>0.0</td>\n",
       "    </tr>\n",
       "    <tr>\n",
       "      <th>...</th>\n",
       "      <td>...</td>\n",
       "      <td>...</td>\n",
       "      <td>...</td>\n",
       "      <td>...</td>\n",
       "      <td>...</td>\n",
       "      <td>...</td>\n",
       "      <td>...</td>\n",
       "      <td>...</td>\n",
       "      <td>...</td>\n",
       "    </tr>\n",
       "    <tr>\n",
       "      <th>393</th>\n",
       "      <td>86.0</td>\n",
       "      <td>0.2</td>\n",
       "      <td>0.186047</td>\n",
       "      <td>0.333711</td>\n",
       "      <td>0.452381</td>\n",
       "      <td>1.0</td>\n",
       "      <td>1.0</td>\n",
       "      <td>0.0</td>\n",
       "      <td>0.0</td>\n",
       "    </tr>\n",
       "    <tr>\n",
       "      <th>394</th>\n",
       "      <td>52.0</td>\n",
       "      <td>0.2</td>\n",
       "      <td>0.074935</td>\n",
       "      <td>0.146583</td>\n",
       "      <td>0.988095</td>\n",
       "      <td>1.0</td>\n",
       "      <td>0.0</td>\n",
       "      <td>1.0</td>\n",
       "      <td>0.0</td>\n",
       "    </tr>\n",
       "    <tr>\n",
       "      <th>395</th>\n",
       "      <td>84.0</td>\n",
       "      <td>0.2</td>\n",
       "      <td>0.173127</td>\n",
       "      <td>0.193365</td>\n",
       "      <td>0.214286</td>\n",
       "      <td>1.0</td>\n",
       "      <td>1.0</td>\n",
       "      <td>0.0</td>\n",
       "      <td>0.0</td>\n",
       "    </tr>\n",
       "    <tr>\n",
       "      <th>396</th>\n",
       "      <td>79.0</td>\n",
       "      <td>0.2</td>\n",
       "      <td>0.134367</td>\n",
       "      <td>0.286929</td>\n",
       "      <td>0.630952</td>\n",
       "      <td>1.0</td>\n",
       "      <td>1.0</td>\n",
       "      <td>0.0</td>\n",
       "      <td>0.0</td>\n",
       "    </tr>\n",
       "    <tr>\n",
       "      <th>397</th>\n",
       "      <td>82.0</td>\n",
       "      <td>0.2</td>\n",
       "      <td>0.131783</td>\n",
       "      <td>0.313864</td>\n",
       "      <td>0.678571</td>\n",
       "      <td>1.0</td>\n",
       "      <td>1.0</td>\n",
       "      <td>0.0</td>\n",
       "      <td>0.0</td>\n",
       "    </tr>\n",
       "  </tbody>\n",
       "</table>\n",
       "<p>398 rows × 9 columns</p>\n",
       "</div>"
      ],
      "text/plain": [
       "         0    1         2         3         4    5    6    7    8\n",
       "0    130.0  1.0  0.617571  0.536150  0.238095  0.0  1.0  0.0  0.0\n",
       "1    165.0  1.0  0.728682  0.589736  0.208333  0.0  1.0  0.0  0.0\n",
       "2    150.0  1.0  0.645995  0.516870  0.178571  0.0  1.0  0.0  0.0\n",
       "3    150.0  1.0  0.609819  0.516019  0.238095  0.0  1.0  0.0  0.0\n",
       "4    140.0  1.0  0.604651  0.520556  0.148810  0.0  1.0  0.0  0.0\n",
       "..     ...  ...       ...       ...       ...  ...  ...  ...  ...\n",
       "393   86.0  0.2  0.186047  0.333711  0.452381  1.0  1.0  0.0  0.0\n",
       "394   52.0  0.2  0.074935  0.146583  0.988095  1.0  0.0  1.0  0.0\n",
       "395   84.0  0.2  0.173127  0.193365  0.214286  1.0  1.0  0.0  0.0\n",
       "396   79.0  0.2  0.134367  0.286929  0.630952  1.0  1.0  0.0  0.0\n",
       "397   82.0  0.2  0.131783  0.313864  0.678571  1.0  1.0  0.0  0.0\n",
       "\n",
       "[398 rows x 9 columns]"
      ]
     },
     "execution_count": 134,
     "metadata": {},
     "output_type": "execute_result"
    }
   ],
   "source": [
    "pd.DataFrame(transformed_data)"
   ]
  },
  {
   "cell_type": "code",
   "execution_count": 135,
   "metadata": {},
   "outputs": [
    {
     "data": {
      "text/plain": [
       "(398, 9)"
      ]
     },
     "execution_count": 135,
     "metadata": {},
     "output_type": "execute_result"
    }
   ],
   "source": [
    "# check shape\n",
    "transformed_data.shape\n"
   ]
  },
  {
   "cell_type": "code",
   "execution_count": 136,
   "metadata": {},
   "outputs": [],
   "source": [
    "# We need only the origin and the scaled values\n",
    "\n",
    "scaled_features = transformed_data[:,1:]"
   ]
  },
  {
   "cell_type": "code",
   "execution_count": 137,
   "metadata": {},
   "outputs": [
    {
     "data": {
      "text/plain": [
       "MinMaxScaler()"
      ]
     },
     "execution_count": 137,
     "metadata": {},
     "output_type": "execute_result"
    }
   ],
   "source": [
    "target_scaler = preprocessing.MinMaxScaler()\n",
    "target_scaler.fit(data['mpg'].values.reshape(-1,1))"
   ]
  },
  {
   "cell_type": "code",
   "execution_count": 138,
   "metadata": {},
   "outputs": [],
   "source": [
    "target = target_scaler.transform(data['mpg'].values.reshape(-1,1))"
   ]
  },
  {
   "cell_type": "code",
   "execution_count": 139,
   "metadata": {},
   "outputs": [],
   "source": [
    "# split the features\n",
    "X_train, X_test, y_train, y_test = model_selection.train_test_split(scaled_features, target, test_size=0.20, random_state=42)"
   ]
  },
  {
   "cell_type": "markdown",
   "metadata": {},
   "source": [
    "## Making the Keras Model"
   ]
  },
  {
   "cell_type": "code",
   "execution_count": 145,
   "metadata": {},
   "outputs": [],
   "source": [
    "\n",
    "model = keras.Sequential()\n",
    "model.add(keras.layers.Dense(X_train.shape[1], kernel_initializer='normal', activation=\"linear\"))\n",
    "model.add(keras.layers.Dense(8, kernel_initializer='normal', activation=\"linear\"))\n",
    "model.add(keras.layers.Dense(4,kernel_initializer='normal',  activation = 'linear'))\n",
    "model.add(keras.layers.Dense(1,kernel_initializer='normal',  activation = 'linear'))\n",
    "model.compile(optimizer = 'adam',loss='mse')"
   ]
  },
  {
   "cell_type": "code",
   "execution_count": 146,
   "metadata": {
    "scrolled": true
   },
   "outputs": [
    {
     "name": "stdout",
     "output_type": "stream",
     "text": [
      "Train on 318 samples, validate on 80 samples\n",
      "Epoch 1/100\n",
      "318/318 [==============================] - 0s 1ms/step - loss: 0.1376 - val_loss: 0.0464\n",
      "Epoch 2/100\n",
      "318/318 [==============================] - 0s 836us/step - loss: 0.0408 - val_loss: 0.0246\n",
      "Epoch 3/100\n",
      "318/318 [==============================] - 0s 985us/step - loss: 0.0228 - val_loss: 0.0112\n",
      "Epoch 4/100\n",
      "318/318 [==============================] - 0s 714us/step - loss: 0.0143 - val_loss: 0.0087\n",
      "Epoch 5/100\n",
      "318/318 [==============================] - 0s 713us/step - loss: 0.0126 - val_loss: 0.0083\n",
      "Epoch 6/100\n",
      "318/318 [==============================] - 0s 762us/step - loss: 0.0119 - val_loss: 0.0073\n",
      "Epoch 7/100\n",
      "318/318 [==============================] - 0s 751us/step - loss: 0.0115 - val_loss: 0.0072\n",
      "Epoch 8/100\n",
      "318/318 [==============================] - 0s 734us/step - loss: 0.0108 - val_loss: 0.0084\n",
      "Epoch 9/100\n",
      "318/318 [==============================] - 0s 730us/step - loss: 0.0109 - val_loss: 0.0068\n",
      "Epoch 10/100\n",
      "318/318 [==============================] - 0s 713us/step - loss: 0.0106 - val_loss: 0.0067\n",
      "Epoch 11/100\n",
      "318/318 [==============================] - 0s 746us/step - loss: 0.0101 - val_loss: 0.0077\n",
      "Epoch 12/100\n",
      "318/318 [==============================] - 0s 695us/step - loss: 0.0104 - val_loss: 0.0069\n",
      "Epoch 13/100\n",
      "318/318 [==============================] - 0s 724us/step - loss: 0.0102 - val_loss: 0.0071\n",
      "Epoch 14/100\n",
      "318/318 [==============================] - 0s 737us/step - loss: 0.0099 - val_loss: 0.0068\n",
      "Epoch 15/100\n",
      "318/318 [==============================] - 0s 730us/step - loss: 0.0098 - val_loss: 0.0077\n",
      "Epoch 16/100\n",
      "318/318 [==============================] - 0s 750us/step - loss: 0.0096 - val_loss: 0.0068\n",
      "Epoch 17/100\n",
      "318/318 [==============================] - 0s 712us/step - loss: 0.0095 - val_loss: 0.0078\n",
      "Epoch 18/100\n",
      "318/318 [==============================] - 0s 741us/step - loss: 0.0096 - val_loss: 0.0072\n",
      "Epoch 19/100\n",
      "318/318 [==============================] - 0s 713us/step - loss: 0.0095 - val_loss: 0.0067\n",
      "Epoch 20/100\n",
      "318/318 [==============================] - 0s 695us/step - loss: 0.0096 - val_loss: 0.0063\n",
      "Epoch 21/100\n",
      "318/318 [==============================] - 0s 734us/step - loss: 0.0091 - val_loss: 0.0062\n",
      "Epoch 22/100\n",
      "318/318 [==============================] - 0s 944us/step - loss: 0.0092 - val_loss: 0.0065\n",
      "Epoch 23/100\n",
      "318/318 [==============================] - 0s 907us/step - loss: 0.0089 - val_loss: 0.0067\n",
      "Epoch 24/100\n",
      "318/318 [==============================] - 0s 927us/step - loss: 0.0092 - val_loss: 0.0065\n",
      "Epoch 25/100\n",
      "318/318 [==============================] - 0s 867us/step - loss: 0.0093 - val_loss: 0.0065\n",
      "Epoch 26/100\n",
      "318/318 [==============================] - 0s 998us/step - loss: 0.0090 - val_loss: 0.0070\n",
      "Epoch 27/100\n",
      "318/318 [==============================] - 0s 865us/step - loss: 0.0090 - val_loss: 0.0068\n",
      "Epoch 28/100\n",
      "318/318 [==============================] - 0s 958us/step - loss: 0.0086 - val_loss: 0.0060\n",
      "Epoch 29/100\n",
      "318/318 [==============================] - 0s 979us/step - loss: 0.0089 - val_loss: 0.0070\n",
      "Epoch 30/100\n",
      "318/318 [==============================] - 0s 821us/step - loss: 0.0089 - val_loss: 0.0063\n",
      "Epoch 31/100\n",
      "318/318 [==============================] - 0s 766us/step - loss: 0.0086 - val_loss: 0.0062\n",
      "Epoch 32/100\n",
      "318/318 [==============================] - 0s 742us/step - loss: 0.0090 - val_loss: 0.0061\n",
      "Epoch 33/100\n",
      "318/318 [==============================] - 0s 791us/step - loss: 0.0086 - val_loss: 0.0063\n",
      "Epoch 34/100\n",
      "318/318 [==============================] - 0s 792us/step - loss: 0.0089 - val_loss: 0.0064\n",
      "Epoch 35/100\n",
      "318/318 [==============================] - 0s 846us/step - loss: 0.0089 - val_loss: 0.0070\n",
      "Epoch 36/100\n",
      "318/318 [==============================] - 0s 960us/step - loss: 0.0088 - val_loss: 0.0068\n",
      "Epoch 37/100\n",
      "318/318 [==============================] - 0s 963us/step - loss: 0.0086 - val_loss: 0.0072\n",
      "Epoch 38/100\n",
      "318/318 [==============================] - 0s 957us/step - loss: 0.0087 - val_loss: 0.0061\n",
      "Epoch 39/100\n",
      "318/318 [==============================] - 0s 887us/step - loss: 0.0087 - val_loss: 0.0061\n",
      "Epoch 40/100\n",
      "318/318 [==============================] - 0s 946us/step - loss: 0.0085 - val_loss: 0.0061\n",
      "Epoch 41/100\n",
      "318/318 [==============================] - 0s 863us/step - loss: 0.0088 - val_loss: 0.0060\n",
      "Epoch 42/100\n",
      "318/318 [==============================] - 0s 719us/step - loss: 0.0086 - val_loss: 0.0070\n",
      "Epoch 43/100\n",
      "318/318 [==============================] - 0s 731us/step - loss: 0.0087 - val_loss: 0.0063\n",
      "Epoch 44/100\n",
      "318/318 [==============================] - 0s 751us/step - loss: 0.0087 - val_loss: 0.0066\n",
      "Epoch 45/100\n",
      "318/318 [==============================] - 0s 738us/step - loss: 0.0088 - val_loss: 0.0061\n",
      "Epoch 46/100\n",
      "318/318 [==============================] - 0s 710us/step - loss: 0.0084 - val_loss: 0.0063\n",
      "Epoch 47/100\n",
      "318/318 [==============================] - 0s 678us/step - loss: 0.0084 - val_loss: 0.0062\n",
      "Epoch 48/100\n",
      "318/318 [==============================] - 0s 736us/step - loss: 0.0091 - val_loss: 0.0064\n",
      "Epoch 49/100\n",
      "318/318 [==============================] - 0s 729us/step - loss: 0.0086 - val_loss: 0.0061\n",
      "Epoch 50/100\n",
      "318/318 [==============================] - 0s 742us/step - loss: 0.0086 - val_loss: 0.0061\n",
      "Epoch 51/100\n",
      "318/318 [==============================] - 0s 789us/step - loss: 0.0087 - val_loss: 0.0060\n",
      "Epoch 52/100\n",
      "318/318 [==============================] - 0s 750us/step - loss: 0.0087 - val_loss: 0.0062\n",
      "Epoch 53/100\n",
      "318/318 [==============================] - 0s 727us/step - loss: 0.0085 - val_loss: 0.0066\n",
      "Epoch 54/100\n",
      "318/318 [==============================] - 0s 721us/step - loss: 0.0087 - val_loss: 0.0069\n",
      "Epoch 55/100\n",
      "318/318 [==============================] - 0s 681us/step - loss: 0.0088 - val_loss: 0.0062\n",
      "Epoch 56/100\n",
      "318/318 [==============================] - 0s 744us/step - loss: 0.0085 - val_loss: 0.0062\n",
      "Epoch 57/100\n",
      "318/318 [==============================] - 0s 735us/step - loss: 0.0087 - val_loss: 0.0060\n",
      "Epoch 58/100\n",
      "318/318 [==============================] - 0s 730us/step - loss: 0.0087 - val_loss: 0.0063\n",
      "Epoch 59/100\n",
      "318/318 [==============================] - 0s 798us/step - loss: 0.0083 - val_loss: 0.0060\n",
      "Epoch 60/100\n",
      "318/318 [==============================] - 0s 756us/step - loss: 0.0084 - val_loss: 0.0062\n",
      "Epoch 61/100\n",
      "318/318 [==============================] - 0s 838us/step - loss: 0.0086 - val_loss: 0.0060\n",
      "Epoch 62/100\n",
      "318/318 [==============================] - 0s 824us/step - loss: 0.0085 - val_loss: 0.0062\n",
      "Epoch 63/100\n",
      "318/318 [==============================] - 0s 751us/step - loss: 0.0085 - val_loss: 0.0060\n",
      "Epoch 64/100\n",
      "318/318 [==============================] - 0s 709us/step - loss: 0.0085 - val_loss: 0.0061\n",
      "Epoch 65/100\n",
      "318/318 [==============================] - 0s 788us/step - loss: 0.0083 - val_loss: 0.0062\n",
      "Epoch 66/100\n",
      "318/318 [==============================] - 0s 746us/step - loss: 0.0083 - val_loss: 0.0063\n",
      "Epoch 67/100\n",
      "318/318 [==============================] - 0s 683us/step - loss: 0.0084 - val_loss: 0.0062\n",
      "Epoch 68/100\n",
      "318/318 [==============================] - 0s 761us/step - loss: 0.0084 - val_loss: 0.0063\n",
      "Epoch 69/100\n",
      "318/318 [==============================] - 0s 944us/step - loss: 0.0086 - val_loss: 0.0063\n",
      "Epoch 70/100\n",
      "318/318 [==============================] - 0s 1ms/step - loss: 0.0087 - val_loss: 0.0065\n",
      "Epoch 71/100\n",
      "318/318 [==============================] - 0s 895us/step - loss: 0.0084 - val_loss: 0.0060\n",
      "Epoch 72/100\n",
      "318/318 [==============================] - 0s 887us/step - loss: 0.0088 - val_loss: 0.0061\n",
      "Epoch 73/100\n",
      "318/318 [==============================] - 0s 881us/step - loss: 0.0086 - val_loss: 0.0063\n",
      "Epoch 74/100\n",
      "318/318 [==============================] - 0s 912us/step - loss: 0.0084 - val_loss: 0.0071\n",
      "Epoch 75/100\n",
      "318/318 [==============================] - 0s 903us/step - loss: 0.0087 - val_loss: 0.0065\n",
      "Epoch 76/100\n",
      "318/318 [==============================] - 0s 1ms/step - loss: 0.0086 - val_loss: 0.0062\n",
      "Epoch 77/100\n",
      "318/318 [==============================] - 0s 1ms/step - loss: 0.0084 - val_loss: 0.0060\n",
      "Epoch 78/100\n",
      "318/318 [==============================] - 0s 1ms/step - loss: 0.0086 - val_loss: 0.0065\n",
      "Epoch 79/100\n",
      "318/318 [==============================] - 0s 919us/step - loss: 0.0084 - val_loss: 0.0059\n",
      "Epoch 80/100\n",
      "318/318 [==============================] - 0s 886us/step - loss: 0.0084 - val_loss: 0.0060\n",
      "Epoch 81/100\n",
      "318/318 [==============================] - 0s 1ms/step - loss: 0.0082 - val_loss: 0.0065\n",
      "Epoch 82/100\n",
      "318/318 [==============================] - 0s 913us/step - loss: 0.0084 - val_loss: 0.0072\n",
      "Epoch 83/100\n",
      "318/318 [==============================] - 0s 994us/step - loss: 0.0086 - val_loss: 0.0061\n",
      "Epoch 84/100\n",
      "318/318 [==============================] - 0s 1ms/step - loss: 0.0084 - val_loss: 0.0069\n",
      "Epoch 85/100\n",
      "318/318 [==============================] - 0s 1ms/step - loss: 0.0091 - val_loss: 0.0068\n",
      "Epoch 86/100\n",
      "318/318 [==============================] - 0s 1ms/step - loss: 0.0087 - val_loss: 0.0061\n",
      "Epoch 87/100\n",
      "318/318 [==============================] - 0s 906us/step - loss: 0.0083 - val_loss: 0.0066\n",
      "Epoch 88/100\n",
      "318/318 [==============================] - 0s 944us/step - loss: 0.0089 - val_loss: 0.0061\n",
      "Epoch 89/100\n",
      "318/318 [==============================] - 0s 913us/step - loss: 0.0084 - val_loss: 0.0060\n",
      "Epoch 90/100\n",
      "318/318 [==============================] - 0s 863us/step - loss: 0.0085 - val_loss: 0.0062\n",
      "Epoch 91/100\n",
      "318/318 [==============================] - 0s 1ms/step - loss: 0.0085 - val_loss: 0.0064\n",
      "Epoch 92/100\n",
      "318/318 [==============================] - 0s 1ms/step - loss: 0.0084 - val_loss: 0.0059\n",
      "Epoch 93/100\n",
      "318/318 [==============================] - 0s 1ms/step - loss: 0.0084 - val_loss: 0.0061\n",
      "Epoch 94/100\n",
      "318/318 [==============================] - 0s 1ms/step - loss: 0.0085 - val_loss: 0.0062\n",
      "Epoch 95/100\n",
      "318/318 [==============================] - 0s 1ms/step - loss: 0.0084 - val_loss: 0.0062\n",
      "Epoch 96/100\n",
      "318/318 [==============================] - 0s 1ms/step - loss: 0.0083 - val_loss: 0.0065\n",
      "Epoch 97/100\n",
      "318/318 [==============================] - 0s 1ms/step - loss: 0.0089 - val_loss: 0.0069\n",
      "Epoch 98/100\n",
      "318/318 [==============================] - 0s 1ms/step - loss: 0.0084 - val_loss: 0.0061\n",
      "Epoch 99/100\n",
      "318/318 [==============================] - 0s 1ms/step - loss: 0.0084 - val_loss: 0.0063\n",
      "Epoch 100/100\n",
      "318/318 [==============================] - 0s 1ms/step - loss: 0.0084 - val_loss: 0.0059\n"
     ]
    }
   ],
   "source": [
    "history = (model.fit(X_train, y_train, epochs=100, batch_size=4, validation_data=[X_test, y_test]))"
   ]
  },
  {
   "cell_type": "markdown",
   "metadata": {},
   "source": [
    "### Making predictions on the test set"
   ]
  },
  {
   "cell_type": "code",
   "execution_count": 147,
   "metadata": {},
   "outputs": [],
   "source": [
    "pred = model.predict(X_test)"
   ]
  },
  {
   "cell_type": "markdown",
   "metadata": {},
   "source": [
    "Now that we have our model working, we need to prepare some functions.\n",
    "These functions will handle the data preparations for our model in the web app.\n",
    "But first we need to save the model, the pipeline that prepares the data and the scaler for the target variable.\n",
    "\n",
    "We will load all these objects in our web app.\n",
    "For keras model we will use the inbuilt save functionality. For sklearn object we will use pickle file format using joblib.\n",
    "\n",
    "\n",
    "#### Let's save all objects.\n"
   ]
  },
  {
   "cell_type": "code",
   "execution_count": 209,
   "metadata": {},
   "outputs": [
    {
     "data": {
      "text/plain": [
       "['target_scaler.pkl']"
      ]
     },
     "execution_count": 209,
     "metadata": {},
     "output_type": "execute_result"
    }
   ],
   "source": [
    "# save the keras model\n",
    "model.save('MPG_keras_NN')\n",
    "\n",
    "# save the pipeline and teh target scaler using joblib and .pkl format\n",
    "import joblib\n",
    "joblib.dump(pipeline_obj,'data_pipeline.pkl')\n",
    "joblib.dump(target_scaler,'target_scaler.pkl')"
   ]
  },
  {
   "cell_type": "markdown",
   "metadata": {},
   "source": [
    "#### The functions to handle data preparation and making predictions"
   ]
  },
  {
   "cell_type": "code",
   "execution_count": 210,
   "metadata": {},
   "outputs": [],
   "source": [
    "def get_input_set(input_dict, loaded_pipeline):\n",
    "    # prepare input data\n",
    "    temp_data=pd.DataFrame({'x':input_dict}).transpose()\n",
    "    temp_data = temp_data.apply(pd.to_numeric)\n",
    "    temp_scaled = loaded_pipeline.transform(temp_data)[:,1:]\n",
    "    \n",
    "    return temp_scaled\n",
    "    \n",
    "    \n"
   ]
  },
  {
   "cell_type": "code",
   "execution_count": 211,
   "metadata": {},
   "outputs": [
    {
     "data": {
      "text/plain": [
       "array([[-0.0031298]], dtype=float32)"
      ]
     },
     "execution_count": 211,
     "metadata": {},
     "output_type": "execute_result"
    }
   ],
   "source": [
    "model.predict(temp_scaled)"
   ]
  },
  {
   "cell_type": "code",
   "execution_count": 212,
   "metadata": {},
   "outputs": [
    {
     "data": {
      "text/plain": [
       "array([[8.882319]], dtype=float32)"
      ]
     },
     "execution_count": 212,
     "metadata": {},
     "output_type": "execute_result"
    }
   ],
   "source": [
    "target_scaler.inverse_transform(model.predict(get_input_set(input_dict, pipeline_obj)))"
   ]
  },
  {
   "cell_type": "code",
   "execution_count": 213,
   "metadata": {},
   "outputs": [],
   "source": [
    "def get_prediction(loaded_model, loaded_target_scaler, input_feature_set):\n",
    "    return float(np.squeeze(loaded_target_scaler.inverse_transform(loaded_model.predict(input_feature_set))))\n",
    "    "
   ]
  },
  {
   "cell_type": "code",
   "execution_count": 214,
   "metadata": {},
   "outputs": [
    {
     "data": {
      "text/plain": [
       "8.882319450378418"
      ]
     },
     "execution_count": 214,
     "metadata": {},
     "output_type": "execute_result"
    }
   ],
   "source": [
    "get_prediction(model, target_scaler, temp_scaled)"
   ]
  },
  {
   "cell_type": "markdown",
   "metadata": {},
   "source": [
    "#### Let us load the saved model and the objects to verify if everything is still working"
   ]
  },
  {
   "cell_type": "code",
   "execution_count": 215,
   "metadata": {},
   "outputs": [],
   "source": [
    "loaded_model = keras.models.load_model('MPG_keras_NN')"
   ]
  },
  {
   "cell_type": "code",
   "execution_count": 217,
   "metadata": {},
   "outputs": [],
   "source": [
    "loaded_pipeline = joblib.load('data_pipeline.pkl')\n",
    "loaded_target_scaler = joblib.load('target_scaler.pkl')"
   ]
  },
  {
   "cell_type": "code",
   "execution_count": 219,
   "metadata": {},
   "outputs": [
    {
     "data": {
      "text/plain": [
       "array([[1.        , 0.61757106, 0.7916076 , 0.23809524, 0.        ,\n",
       "        1.        , 0.        , 0.        ]])"
      ]
     },
     "execution_count": 219,
     "metadata": {},
     "output_type": "execute_result"
    }
   ],
   "source": [
    "get_input_set(input_dict, loaded_pipeline)"
   ]
  },
  {
   "cell_type": "code",
   "execution_count": 218,
   "metadata": {},
   "outputs": [
    {
     "data": {
      "text/plain": [
       "8.882319450378418"
      ]
     },
     "execution_count": 218,
     "metadata": {},
     "output_type": "execute_result"
    }
   ],
   "source": [
    "get_prediction(loaded_model, loaded_target_scaler, temp_scaled)\n"
   ]
  },
  {
   "cell_type": "code",
   "execution_count": null,
   "metadata": {},
   "outputs": [],
   "source": []
  }
 ],
 "metadata": {
  "kernelspec": {
   "display_name": "Python 3",
   "language": "python",
   "name": "python3"
  },
  "language_info": {
   "codemirror_mode": {
    "name": "ipython",
    "version": 3
   },
   "file_extension": ".py",
   "mimetype": "text/x-python",
   "name": "python",
   "nbconvert_exporter": "python",
   "pygments_lexer": "ipython3",
   "version": "3.8.2"
  }
 },
 "nbformat": 4,
 "nbformat_minor": 4
}
